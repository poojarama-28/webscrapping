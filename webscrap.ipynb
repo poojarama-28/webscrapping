{
 "cells": [
  {
   "cell_type": "code",
   "execution_count": 1,
   "metadata": {},
   "outputs": [
    {
     "name": "stdout",
     "output_type": "stream",
     "text": [
      "Title: A Light in the Attic, Price: Â£51.77\n",
      "Title: Tipping the Velvet, Price: Â£53.74\n",
      "Title: Soumission, Price: Â£50.10\n",
      "Title: Sharp Objects, Price: Â£47.82\n",
      "Title: Sapiens: A Brief History of Humankind, Price: Â£54.23\n",
      "Title: The Requiem Red, Price: Â£22.65\n",
      "Title: The Dirty Little Secrets of Getting Your Dream Job, Price: Â£33.34\n",
      "Title: The Coming Woman: A Novel Based on the Life of the Infamous Feminist, Victoria Woodhull, Price: Â£17.93\n",
      "Title: The Boys in the Boat: Nine Americans and Their Epic Quest for Gold at the 1936 Berlin Olympics, Price: Â£22.60\n",
      "Title: The Black Maria, Price: Â£52.15\n",
      "Title: Starving Hearts (Triangular Trade Trilogy, #1), Price: Â£13.99\n",
      "Title: Shakespeare's Sonnets, Price: Â£20.66\n",
      "Title: Set Me Free, Price: Â£17.46\n",
      "Title: Scott Pilgrim's Precious Little Life (Scott Pilgrim #1), Price: Â£52.29\n",
      "Title: Rip it Up and Start Again, Price: Â£35.02\n",
      "Title: Our Band Could Be Your Life: Scenes from the American Indie Underground, 1981-1991, Price: Â£57.25\n",
      "Title: Olio, Price: Â£23.88\n",
      "Title: Mesaerion: The Best Science Fiction Stories 1800-1849, Price: Â£37.59\n",
      "Title: Libertarianism for Beginners, Price: Â£51.33\n",
      "Title: It's Only the Himalayas, Price: Â£45.17\n"
     ]
    }
   ],
   "source": [
    "import requests\n",
    "from bs4 import BeautifulSoup\n",
    "\n",
    "# URL of the website\n",
    "url = 'http://books.toscrape.com/'\n",
    "\n",
    "# Send GET request to the website\n",
    "response = requests.get(url)\n",
    "soup = BeautifulSoup(response.text, 'html.parser')\n",
    "\n",
    "# Find all book titles and prices\n",
    "books = soup.find_all('article', class_='product_pod')\n",
    "for book in books:\n",
    "    title = book.find('h3').find('a')['title']\n",
    "    price = book.find('p', class_='price_color').text\n",
    "    print(f'Title: {title}, Price: {price}')\n"
   ]
  }
 ],
 "metadata": {
  "kernelspec": {
   "display_name": "Python 3",
   "language": "python",
   "name": "python3"
  },
  "language_info": {
   "codemirror_mode": {
    "name": "ipython",
    "version": 3
   },
   "file_extension": ".py",
   "mimetype": "text/x-python",
   "name": "python",
   "nbconvert_exporter": "python",
   "pygments_lexer": "ipython3",
   "version": "3.13.1"
  }
 },
 "nbformat": 4,
 "nbformat_minor": 2
}
